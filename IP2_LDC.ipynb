{
 "cells": [
  {
   "cell_type": "markdown",
   "id": "b4287078",
   "metadata": {},
   "source": [
    "Individual Project 2, Liezel Dela Cruz, DS-160-01"
   ]
  },
  {
   "cell_type": "markdown",
   "id": "d2f71447",
   "metadata": {},
   "source": [
    "# "
   ]
  },
  {
   "cell_type": "markdown",
   "id": "1b2c5b86",
   "metadata": {},
   "source": [
    "a.\tCreate a 2-by-2 NumPy array with elements 10,20,30,40 in it. Then use broadcasting to perform each of these operations:"
   ]
  },
  {
   "cell_type": "code",
   "execution_count": 15,
   "id": "26b9d0bd",
   "metadata": {},
   "outputs": [
    {
     "name": "stdout",
     "output_type": "stream",
     "text": [
      "[[10 20]\n",
      " [30 40]]\n"
     ]
    }
   ],
   "source": [
    "import numpy as np\n",
    "x=np.arange(10,50,10)\n",
    "x.resize(2,2)\n",
    "print(x)"
   ]
  },
  {
   "cell_type": "markdown",
   "id": "760ad46a",
   "metadata": {},
   "source": [
    "(i) Square every element of the array."
   ]
  },
  {
   "cell_type": "code",
   "execution_count": 16,
   "id": "27761735",
   "metadata": {},
   "outputs": [
    {
     "name": "stdout",
     "output_type": "stream",
     "text": [
      "[[ 100  400]\n",
      " [ 900 1600]]\n"
     ]
    }
   ],
   "source": [
    "square=np.square(x)\n",
    "print(square)"
   ]
  },
  {
   "cell_type": "markdown",
   "id": "2b5d449a",
   "metadata": {},
   "source": [
    "(ii) Add 100 to every element of the array."
   ]
  },
  {
   "cell_type": "code",
   "execution_count": 17,
   "id": "3779e60b",
   "metadata": {},
   "outputs": [
    {
     "name": "stdout",
     "output_type": "stream",
     "text": [
      "[[11 21]\n",
      " [31 41]]\n"
     ]
    }
   ],
   "source": [
    "add=x+1\n",
    "print (add)"
   ]
  },
  {
   "cell_type": "markdown",
   "id": "4e0cbabe",
   "metadata": {},
   "source": [
    "(iii) Multiply every element of the array by 5."
   ]
  },
  {
   "cell_type": "code",
   "execution_count": 18,
   "id": "da8db10d",
   "metadata": {},
   "outputs": [
    {
     "name": "stdout",
     "output_type": "stream",
     "text": [
      "[[ 50 100]\n",
      " [150 200]]\n"
     ]
    }
   ],
   "source": [
    "multiply=x*5\n",
    "print(multiply)"
   ]
  },
  {
   "cell_type": "markdown",
   "id": "636954b9",
   "metadata": {},
   "source": [
    "(iv) Calculate the square root of each element in the array."
   ]
  },
  {
   "cell_type": "code",
   "execution_count": 19,
   "id": "ac613146",
   "metadata": {},
   "outputs": [
    {
     "name": "stdout",
     "output_type": "stream",
     "text": [
      "[[3.16227766 4.47213595]\n",
      " [5.47722558 6.32455532]]\n"
     ]
    }
   ],
   "source": [
    "root=np.sqrt(x)\n",
    "print(root)"
   ]
  },
  {
   "cell_type": "markdown",
   "id": "c9384a96",
   "metadata": {},
   "source": [
    "# "
   ]
  },
  {
   "cell_type": "markdown",
   "id": "8e289d35",
   "metadata": {},
   "source": [
    "b.\tCreate a 3-by-3 array containing integers from 3 to 27 in multiples of 3.  Create a second 3-by-3 array with 9 elements evenly spaced between 10 and 20.  Multiply these arrays together and display the output."
   ]
  },
  {
   "cell_type": "code",
   "execution_count": 20,
   "id": "30180de6",
   "metadata": {},
   "outputs": [
    {
     "name": "stdout",
     "output_type": "stream",
     "text": [
      "[[ 3  6  9]\n",
      " [12 15 18]\n",
      " [21 24 27]]\n"
     ]
    }
   ],
   "source": [
    "y=np.arange(3,30,3).reshape(3,3)\n",
    "print(y)"
   ]
  },
  {
   "cell_type": "code",
   "execution_count": 21,
   "id": "93632a97",
   "metadata": {},
   "outputs": [
    {
     "name": "stdout",
     "output_type": "stream",
     "text": [
      "[[10.   11.25 12.5 ]\n",
      " [13.75 15.   16.25]\n",
      " [17.5  18.75 20.  ]]\n"
     ]
    }
   ],
   "source": [
    "z=np.linspace(10,20,9).reshape(3,3)\n",
    "print(z)"
   ]
  },
  {
   "cell_type": "code",
   "execution_count": 22,
   "id": "293bfee1",
   "metadata": {},
   "outputs": [
    {
     "name": "stdout",
     "output_type": "stream",
     "text": [
      "[[ 30.   67.5 112.5]\n",
      " [165.  225.  292.5]\n",
      " [367.5 450.  540. ]]\n"
     ]
    }
   ],
   "source": [
    "yz=y*z\n",
    "print(yz)"
   ]
  },
  {
   "cell_type": "markdown",
   "id": "096a0314",
   "metadata": {},
   "source": [
    "# "
   ]
  },
  {
   "cell_type": "markdown",
   "id": "34274acd",
   "metadata": {},
   "source": [
    "c.\tAttached to the assignment are five .npy files that contain five values each. Read these files in and stack them into a unified dataset.  This would be a 5-by-5 NumPy array.  Then calculate the mean of each column of data. Let Python do all of the heavy liftings! Don’t forget, you need to put the .npy files in the same directory as your script."
   ]
  },
  {
   "cell_type": "code",
   "execution_count": 23,
   "id": "d0417d71",
   "metadata": {},
   "outputs": [
    {
     "name": "stdout",
     "output_type": "stream",
     "text": [
      "[[52 12 81  0 58]\n",
      " [96  4 61 16 43]\n",
      " [38 96 45 17 58]\n",
      " [97 21 22 25  6]\n",
      " [77  6 19  2 74]]\n"
     ]
    }
   ],
   "source": [
    "data1 = np.load(\"process1.npy\" , mmap_mode = 'r')\n",
    "data2 = np.load(\"process2.npy\", mmap_mode = 'r')\n",
    "data3 = np.load(\"process3.npy\" , mmap_mode = 'r')\n",
    "data4 = np.load(\"process4.npy\", mmap_mode = 'r')\n",
    "data5 = np.load(\"process5.npy\" , mmap_mode = 'r')\n",
    "\n",
    "data = np.array([data1,data2,data3,data4,data5]).reshape(5,5)\n",
    "print(data)"
   ]
  },
  {
   "cell_type": "code",
   "execution_count": 24,
   "id": "7c9cbe3c",
   "metadata": {},
   "outputs": [
    {
     "name": "stdout",
     "output_type": "stream",
     "text": [
      "Column 1 Mean:  72.0\n",
      "Column 2 Mean:  27.8\n",
      "Column 3 Mean:  45.6\n",
      "Column 4 Mean:  12.0\n",
      "Column 5 Mean:  47.8\n"
     ]
    }
   ],
   "source": [
    "mean1 = np.mean(data[:,0])\n",
    "print(\"Column 1 Mean: \", mean1)\n",
    "\n",
    "mean2 = np.mean(data[:,1])\n",
    "print(\"Column 2 Mean: \", mean2)\n",
    "\n",
    "mean3 = np.mean(data[:,2])\n",
    "print(\"Column 3 Mean: \", mean3)\n",
    "\n",
    "mean4 = np.mean(data[:,3])\n",
    "print(\"Column 4 Mean: \", mean4)\n",
    "\n",
    "mean5 = np.mean(data[:,4])\n",
    "print(\"Column 5 Mean: \", mean5)"
   ]
  }
 ],
 "metadata": {
  "kernelspec": {
   "display_name": "Python 3 (ipykernel)",
   "language": "python",
   "name": "python3"
  },
  "language_info": {
   "codemirror_mode": {
    "name": "ipython",
    "version": 3
   },
   "file_extension": ".py",
   "mimetype": "text/x-python",
   "name": "python",
   "nbconvert_exporter": "python",
   "pygments_lexer": "ipython3",
   "version": "3.9.7"
  }
 },
 "nbformat": 4,
 "nbformat_minor": 5
}
